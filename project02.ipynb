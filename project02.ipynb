{
 "cells": [
  {
   "cell_type": "markdown",
   "metadata": {},
   "source": [
    "### Importlar"
   ]
  },
  {
   "cell_type": "code",
   "execution_count": 19,
   "metadata": {},
   "outputs": [],
   "source": [
    "import os\n",
    "import numpy as np \n",
    "import pandas as pd\n",
    "import matplotlib.pyplot as plt\n",
    "import random\n",
    "import tensorflow as tf\n",
    "from tensorflow import keras\n",
    "import random\n",
    "from shutil import copyfile"
   ]
  },
  {
   "cell_type": "markdown",
   "metadata": {},
   "source": [
    "### Aşağıdaki linkten indirilen dosyalar ilgili klasöre çıkartıldı\n",
    "https://www.microsoft.com/en-us/download/details.aspx?id=54765"
   ]
  },
  {
   "cell_type": "code",
   "execution_count": 21,
   "metadata": {},
   "outputs": [
    {
     "name": "stdout",
     "output_type": "stream",
     "text": [
      "Cat\n",
      "Dog\n"
     ]
    }
   ],
   "source": [
    "DIRPATH ='C:\\\\Users\\mcsahin\\.keras\\datasets\\PetImages'\n",
    "for dirname in os.listdir(DIRPATH):\n",
    "        print(dirname)"
   ]
  },
  {
   "cell_type": "markdown",
   "metadata": {},
   "source": [
    "### Train ve Validation için yukarıdaki dosyalardan iki klasör oluşturuldu."
   ]
  },
  {
   "cell_type": "code",
   "execution_count": 22,
   "metadata": {},
   "outputs": [],
   "source": [
    "os.mkdir('./data')\n",
    "os.mkdir('./data/train')\n",
    "os.mkdir('./data/valid')\n",
    "for folder in os.listdir(DIRPATH):\n",
    "    files=os.listdir(os.path.join(DIRPATH,folder))\n",
    "    images=[]\n",
    "    for f in files:\n",
    "        try:\n",
    "            img=tf.io.read_file(os.path.join(DIRPATH,folder,f))\n",
    "            img=tf.image.decode_image(img)\n",
    "            if img.ndim == 3:\n",
    "                images.append(f)\n",
    "        except:\n",
    "               pass\n",
    "            \n",
    "            \n",
    "    random.shuffle(images)\n",
    "    count=len(images)\n",
    "    split=int(0.8*count)\n",
    "    os.mkdir(os.path.join('./data/train',folder))\n",
    "    os.mkdir(os.path.join('./data/valid',folder))\n",
    "\n",
    "    for c in range(split):\n",
    "        source_file=os.path.join(DIRPATH,folder,images[c])\n",
    "        distination=os.path.join('./data/train',folder,images[c])\n",
    "        copyfile(source_file,distination)\n",
    "    for c in range(split,count):\n",
    "        source_file=os.path.join(DIRPATH,folder,images[c])\n",
    "        distination=os.path.join('./data/valid',folder,images[c])\n",
    "        copyfile(source_file,distination)"
   ]
  },
  {
   "cell_type": "markdown",
   "metadata": {},
   "source": [
    "### Transfer Learning ve diğer bölümler ikinci dosyada: project02_t.ipynb"
   ]
  }
 ],
 "metadata": {
  "kernelspec": {
   "display_name": "Python 3.10.6 64-bit",
   "language": "python",
   "name": "python3"
  },
  "language_info": {
   "codemirror_mode": {
    "name": "ipython",
    "version": 3
   },
   "file_extension": ".py",
   "mimetype": "text/x-python",
   "name": "python",
   "nbconvert_exporter": "python",
   "pygments_lexer": "ipython3",
   "version": "3.10.6"
  },
  "orig_nbformat": 4,
  "vscode": {
   "interpreter": {
    "hash": "78419098615311cb1c578d869385abe218f6527bbe6dcb43d1d30ef9c9a82f60"
   }
  }
 },
 "nbformat": 4,
 "nbformat_minor": 2
}
